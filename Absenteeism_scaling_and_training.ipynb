{
  "nbformat": 4,
  "nbformat_minor": 0,
  "metadata": {
    "colab": {
      "name": "Absenteeism2.ipynb",
      "provenance": [],
      "collapsed_sections": [],
      "authorship_tag": "ABX9TyOiFp/1sv016ixaBPa3ortp",
      "include_colab_link": true
    },
    "kernelspec": {
      "name": "python3",
      "display_name": "Python 3"
    }
  },
  "cells": [
    {
      "cell_type": "markdown",
      "metadata": {
        "id": "view-in-github",
        "colab_type": "text"
      },
      "source": [
        "<a href=\"https://colab.research.google.com/github/Haaz123/Absenteeism_Prediction/blob/master/Absenteeism_scaling_and_training.ipynb\" target=\"_parent\"><img src=\"https://colab.research.google.com/assets/colab-badge.svg\" alt=\"Open In Colab\"/></a>"
      ]
    },
    {
      "cell_type": "code",
      "metadata": {
        "id": "C8WXaPXnoIZ1"
      },
      "source": [
        "import numpy as np\n",
        "import pandas as pd\n",
        "from sklearn import preprocessing"
      ],
      "execution_count": 1,
      "outputs": []
    },
    {
      "cell_type": "code",
      "metadata": {
        "id": "dMevP2wyomZo"
      },
      "source": [
        "data_preprocessed = pd.read_csv('Absenteeism_Preprocessed_1.csv')"
      ],
      "execution_count": 2,
      "outputs": []
    },
    {
      "cell_type": "code",
      "metadata": {
        "id": "WALXFuWXtNbZ"
      },
      "source": [
        "unscaled_inputs = data_preprocessed.iloc[:,:-1] \n",
        "targets = data_preprocessed.iloc[:,-1]\n",
        "\n",
        "# The following step is done after analysing our model we will eliminate feture that have no affect on our model\n",
        "\n",
        "unscaled_inputs = unscaled_inputs.drop(['Distance to Work', 'Daily Work Load Average','Day of the Week'], axis =1)"
      ],
      "execution_count": 3,
      "outputs": []
    },
    {
      "cell_type": "code",
      "metadata": {
        "id": "BcGVvMhvt6Im"
      },
      "source": [
        "#unscaled_inputs.head() #checking if our dataset is in correct order.\n",
        "#targets"
      ],
      "execution_count": 4,
      "outputs": []
    },
    {
      "cell_type": "code",
      "metadata": {
        "id": "lIXnz3aDt7xG"
      },
      "source": [
        "# now lets scale the data \n",
        "# Scaling dummy data makes it harder to interpret the results so lets build the custom scaler\n",
        "\n"
      ],
      "execution_count": 5,
      "outputs": []
    },
    {
      "cell_type": "code",
      "metadata": {
        "id": "D4fXkgyQ56Nh"
      },
      "source": [
        "# Scale all including dummy variable code for higher ML accuracy\n",
        "\n",
        "#from sklearn.preprocessing import StandardScaler\n",
        "\n",
        "#scaler = StandardScaler()\n",
        "\n",
        "#scaler.fit(unscaled_inputs)\n"
      ],
      "execution_count": 6,
      "outputs": []
    },
    {
      "cell_type": "code",
      "metadata": {
        "id": "WlSZHO076jmi"
      },
      "source": [
        "#scaled_inputs = scaler.transform(unscaled_inputs)"
      ],
      "execution_count": 7,
      "outputs": []
    },
    {
      "cell_type": "code",
      "metadata": {
        "id": "wxoQXtER62LM"
      },
      "source": [
        "# Custom scaler \n",
        "from sklearn.base import BaseEstimator, TransformerMixin\n",
        "from sklearn.preprocessing import StandardScaler\n",
        "\n",
        "class MyScaler(BaseEstimator,TransformerMixin):\n",
        "    def __init__(self,columns,with_mean=True,with_std=True,copy=True):\n",
        "        self.scaler = StandardScaler(copy,with_mean,with_std)\n",
        "        self.columns = columns\n",
        "        self.mean_ = None\n",
        "        self.var_ = None\n",
        "\n",
        "    def fit(self,X,y=None):\n",
        "        self.scaler.fit(X[self.columns],y)\n",
        "        self.mean_ = np.array(np.mean(X[self.columns]))\n",
        "        self.var_ = np.array(np.var(X[self.columns]))\n",
        "        return self\n",
        "\n",
        "    def transform(self,X,y=None,copy=None):\n",
        "        initial_col_order = X.columns\n",
        "        X_scaled = pd.DataFrame(self.scaler.transform(X[self.columns]),columns=self.columns)\n",
        "        X_not_scaled = X.loc[:,~X.columns.isin(self.columns)]\n",
        "        return pd.concat([X_not_scaled,X_scaled],axis=1)[initial_col_order]\n",
        "\n"
      ],
      "execution_count": 8,
      "outputs": []
    },
    {
      "cell_type": "code",
      "metadata": {
        "id": "MPF8DpNOBtfL"
      },
      "source": [
        "#unscaled_inputs.columns.values \n",
        "# copy the names into new variable and remove the names that you do not want to scale"
      ],
      "execution_count": 9,
      "outputs": []
    },
    {
      "cell_type": "code",
      "metadata": {
        "id": "dhAtuEiiB5-E"
      },
      "source": [
        "columns_to_scale = ['Transportation Expense', 'Age',\n",
        "        'Body Mass Index',\n",
        "       'Children', 'Pets', 'Month of Year']"
      ],
      "execution_count": 10,
      "outputs": []
    },
    {
      "cell_type": "code",
      "metadata": {
        "id": "7nrK89vjCTqa"
      },
      "source": [
        "scaler = MyScaler(columns_to_scale)"
      ],
      "execution_count": 11,
      "outputs": []
    },
    {
      "cell_type": "code",
      "metadata": {
        "id": "SX5_1wO5Cktx",
        "outputId": "1e2607a9-76e2-4a15-800e-d7b62a4667c5",
        "colab": {
          "base_uri": "https://localhost:8080/",
          "height": 122
        }
      },
      "source": [
        "scaler.fit(unscaled_inputs)"
      ],
      "execution_count": 12,
      "outputs": [
        {
          "output_type": "stream",
          "text": [
            "/usr/local/lib/python3.6/dist-packages/sklearn/base.py:197: FutureWarning: From version 0.24, get_params will raise an AttributeError if a parameter cannot be retrieved as an instance attribute. Previously it would return None.\n",
            "  FutureWarning)\n"
          ],
          "name": "stderr"
        },
        {
          "output_type": "execute_result",
          "data": {
            "text/plain": [
              "MyScaler(columns=['Transportation Expense', 'Age', 'Body Mass Index',\n",
              "                  'Children', 'Pets', 'Month of Year'],\n",
              "         copy=None, with_mean=None, with_std=None)"
            ]
          },
          "metadata": {
            "tags": []
          },
          "execution_count": 12
        }
      ]
    },
    {
      "cell_type": "code",
      "metadata": {
        "id": "OncL_arTCuEL"
      },
      "source": [
        "scaled_inputs = scaler.transform(unscaled_inputs)"
      ],
      "execution_count": 13,
      "outputs": []
    },
    {
      "cell_type": "code",
      "metadata": {
        "id": "8iK0yTHAC7zr",
        "outputId": "b642a28d-abce-485b-d924-8905526d8017",
        "colab": {
          "base_uri": "https://localhost:8080/",
          "height": 436
        }
      },
      "source": [
        "scaled_inputs"
      ],
      "execution_count": 14,
      "outputs": [
        {
          "output_type": "execute_result",
          "data": {
            "text/html": [
              "<div>\n",
              "<style scoped>\n",
              "    .dataframe tbody tr th:only-of-type {\n",
              "        vertical-align: middle;\n",
              "    }\n",
              "\n",
              "    .dataframe tbody tr th {\n",
              "        vertical-align: top;\n",
              "    }\n",
              "\n",
              "    .dataframe thead th {\n",
              "        text-align: right;\n",
              "    }\n",
              "</style>\n",
              "<table border=\"1\" class=\"dataframe\">\n",
              "  <thead>\n",
              "    <tr style=\"text-align: right;\">\n",
              "      <th></th>\n",
              "      <th>Reason_1</th>\n",
              "      <th>Reason_2</th>\n",
              "      <th>Reason_3</th>\n",
              "      <th>Reason_4</th>\n",
              "      <th>Transportation Expense</th>\n",
              "      <th>Age</th>\n",
              "      <th>Body Mass Index</th>\n",
              "      <th>Education</th>\n",
              "      <th>Children</th>\n",
              "      <th>Pets</th>\n",
              "      <th>Month of Year</th>\n",
              "    </tr>\n",
              "  </thead>\n",
              "  <tbody>\n",
              "    <tr>\n",
              "      <th>0</th>\n",
              "      <td>0</td>\n",
              "      <td>0</td>\n",
              "      <td>0</td>\n",
              "      <td>1</td>\n",
              "      <td>1.005844</td>\n",
              "      <td>-0.536062</td>\n",
              "      <td>0.767431</td>\n",
              "      <td>0</td>\n",
              "      <td>0.880469</td>\n",
              "      <td>0.268487</td>\n",
              "      <td>0.182726</td>\n",
              "    </tr>\n",
              "    <tr>\n",
              "      <th>1</th>\n",
              "      <td>0</td>\n",
              "      <td>0</td>\n",
              "      <td>0</td>\n",
              "      <td>0</td>\n",
              "      <td>-1.574681</td>\n",
              "      <td>2.130803</td>\n",
              "      <td>1.002633</td>\n",
              "      <td>0</td>\n",
              "      <td>-0.019280</td>\n",
              "      <td>-0.589690</td>\n",
              "      <td>0.182726</td>\n",
              "    </tr>\n",
              "    <tr>\n",
              "      <th>2</th>\n",
              "      <td>0</td>\n",
              "      <td>0</td>\n",
              "      <td>0</td>\n",
              "      <td>1</td>\n",
              "      <td>-0.654143</td>\n",
              "      <td>0.248310</td>\n",
              "      <td>1.002633</td>\n",
              "      <td>0</td>\n",
              "      <td>-0.919030</td>\n",
              "      <td>-0.589690</td>\n",
              "      <td>0.182726</td>\n",
              "    </tr>\n",
              "    <tr>\n",
              "      <th>3</th>\n",
              "      <td>1</td>\n",
              "      <td>0</td>\n",
              "      <td>0</td>\n",
              "      <td>0</td>\n",
              "      <td>0.854936</td>\n",
              "      <td>0.405184</td>\n",
              "      <td>-0.643782</td>\n",
              "      <td>0</td>\n",
              "      <td>0.880469</td>\n",
              "      <td>-0.589690</td>\n",
              "      <td>0.182726</td>\n",
              "    </tr>\n",
              "    <tr>\n",
              "      <th>4</th>\n",
              "      <td>0</td>\n",
              "      <td>0</td>\n",
              "      <td>0</td>\n",
              "      <td>1</td>\n",
              "      <td>1.005844</td>\n",
              "      <td>-0.536062</td>\n",
              "      <td>0.767431</td>\n",
              "      <td>0</td>\n",
              "      <td>0.880469</td>\n",
              "      <td>0.268487</td>\n",
              "      <td>0.182726</td>\n",
              "    </tr>\n",
              "    <tr>\n",
              "      <th>...</th>\n",
              "      <td>...</td>\n",
              "      <td>...</td>\n",
              "      <td>...</td>\n",
              "      <td>...</td>\n",
              "      <td>...</td>\n",
              "      <td>...</td>\n",
              "      <td>...</td>\n",
              "      <td>...</td>\n",
              "      <td>...</td>\n",
              "      <td>...</td>\n",
              "      <td>...</td>\n",
              "    </tr>\n",
              "    <tr>\n",
              "      <th>695</th>\n",
              "      <td>1</td>\n",
              "      <td>0</td>\n",
              "      <td>0</td>\n",
              "      <td>0</td>\n",
              "      <td>-0.654143</td>\n",
              "      <td>0.562059</td>\n",
              "      <td>-1.114186</td>\n",
              "      <td>1</td>\n",
              "      <td>0.880469</td>\n",
              "      <td>-0.589690</td>\n",
              "      <td>-0.388293</td>\n",
              "    </tr>\n",
              "    <tr>\n",
              "      <th>696</th>\n",
              "      <td>1</td>\n",
              "      <td>0</td>\n",
              "      <td>0</td>\n",
              "      <td>0</td>\n",
              "      <td>0.040034</td>\n",
              "      <td>-1.320435</td>\n",
              "      <td>-0.643782</td>\n",
              "      <td>0</td>\n",
              "      <td>-0.019280</td>\n",
              "      <td>1.126663</td>\n",
              "      <td>-0.388293</td>\n",
              "    </tr>\n",
              "    <tr>\n",
              "      <th>697</th>\n",
              "      <td>1</td>\n",
              "      <td>0</td>\n",
              "      <td>0</td>\n",
              "      <td>0</td>\n",
              "      <td>1.624567</td>\n",
              "      <td>-1.320435</td>\n",
              "      <td>-0.408580</td>\n",
              "      <td>1</td>\n",
              "      <td>-0.919030</td>\n",
              "      <td>-0.589690</td>\n",
              "      <td>-0.388293</td>\n",
              "    </tr>\n",
              "    <tr>\n",
              "      <th>698</th>\n",
              "      <td>0</td>\n",
              "      <td>0</td>\n",
              "      <td>0</td>\n",
              "      <td>1</td>\n",
              "      <td>0.190942</td>\n",
              "      <td>-0.692937</td>\n",
              "      <td>-0.408580</td>\n",
              "      <td>1</td>\n",
              "      <td>-0.919030</td>\n",
              "      <td>-0.589690</td>\n",
              "      <td>-0.388293</td>\n",
              "    </tr>\n",
              "    <tr>\n",
              "      <th>699</th>\n",
              "      <td>0</td>\n",
              "      <td>0</td>\n",
              "      <td>0</td>\n",
              "      <td>1</td>\n",
              "      <td>1.036026</td>\n",
              "      <td>0.562059</td>\n",
              "      <td>-0.408580</td>\n",
              "      <td>0</td>\n",
              "      <td>-0.019280</td>\n",
              "      <td>0.268487</td>\n",
              "      <td>-0.388293</td>\n",
              "    </tr>\n",
              "  </tbody>\n",
              "</table>\n",
              "<p>700 rows × 11 columns</p>\n",
              "</div>"
            ],
            "text/plain": [
              "     Reason_1  Reason_2  Reason_3  ...  Children      Pets  Month of Year\n",
              "0           0         0         0  ...  0.880469  0.268487       0.182726\n",
              "1           0         0         0  ... -0.019280 -0.589690       0.182726\n",
              "2           0         0         0  ... -0.919030 -0.589690       0.182726\n",
              "3           1         0         0  ...  0.880469 -0.589690       0.182726\n",
              "4           0         0         0  ...  0.880469  0.268487       0.182726\n",
              "..        ...       ...       ...  ...       ...       ...            ...\n",
              "695         1         0         0  ...  0.880469 -0.589690      -0.388293\n",
              "696         1         0         0  ... -0.019280  1.126663      -0.388293\n",
              "697         1         0         0  ... -0.919030 -0.589690      -0.388293\n",
              "698         0         0         0  ... -0.919030 -0.589690      -0.388293\n",
              "699         0         0         0  ... -0.019280  0.268487      -0.388293\n",
              "\n",
              "[700 rows x 11 columns]"
            ]
          },
          "metadata": {
            "tags": []
          },
          "execution_count": 14
        }
      ]
    },
    {
      "cell_type": "code",
      "metadata": {
        "id": "Fs-u3rAaG9JF"
      },
      "source": [
        "# now lets ssplit our data into training and testing\n",
        "\n",
        "from sklearn.model_selection import  train_test_split\n"
      ],
      "execution_count": 15,
      "outputs": []
    },
    {
      "cell_type": "code",
      "metadata": {
        "id": "dDEHvv2ZnDEK"
      },
      "source": [
        "x_train, x_test, y_train, y_test = train_test_split(scaled_inputs, targets, train_size= 0.8, random_state =20)"
      ],
      "execution_count": 16,
      "outputs": []
    },
    {
      "cell_type": "code",
      "metadata": {
        "id": "2VO1kqgfnUfI",
        "outputId": "65648080-2c2a-444c-e7e0-6d93f83ee91d",
        "colab": {
          "base_uri": "https://localhost:8080/",
          "height": 51
        }
      },
      "source": [
        "print(x_train.shape , y_train.shape) \n",
        "print(x_test.shape, y_test.shape)"
      ],
      "execution_count": 17,
      "outputs": [
        {
          "output_type": "stream",
          "text": [
            "(560, 11) (560,)\n",
            "(140, 11) (140,)\n"
          ],
          "name": "stdout"
        }
      ]
    },
    {
      "cell_type": "code",
      "metadata": {
        "id": "1KeDnDoSn1Pg"
      },
      "source": [
        "# lets apply logisticc regression \n",
        "from sklearn.linear_model import LogisticRegression\n",
        "from sklearn import metrics"
      ],
      "execution_count": 18,
      "outputs": []
    },
    {
      "cell_type": "code",
      "metadata": {
        "id": "8Qz-5x2Vttc3",
        "outputId": "24ea2253-1751-4fc0-b89c-e60d854890c3",
        "colab": {
          "base_uri": "https://localhost:8080/",
          "height": 102
        }
      },
      "source": [
        "reg = LogisticRegression()\n",
        "reg.fit(x_train, y_train)"
      ],
      "execution_count": 19,
      "outputs": [
        {
          "output_type": "execute_result",
          "data": {
            "text/plain": [
              "LogisticRegression(C=1.0, class_weight=None, dual=False, fit_intercept=True,\n",
              "                   intercept_scaling=1, l1_ratio=None, max_iter=100,\n",
              "                   multi_class='auto', n_jobs=None, penalty='l2',\n",
              "                   random_state=None, solver='lbfgs', tol=0.0001, verbose=0,\n",
              "                   warm_start=False)"
            ]
          },
          "metadata": {
            "tags": []
          },
          "execution_count": 19
        }
      ]
    },
    {
      "cell_type": "code",
      "metadata": {
        "id": "4oBzFJ8Ft1A-",
        "outputId": "6af76632-1201-4860-cce7-3e4247f3f1fb",
        "colab": {
          "base_uri": "https://localhost:8080/",
          "height": 34
        }
      },
      "source": [
        "reg.score(x_train, y_train)"
      ],
      "execution_count": 20,
      "outputs": [
        {
          "output_type": "execute_result",
          "data": {
            "text/plain": [
              "0.7732142857142857"
            ]
          },
          "metadata": {
            "tags": []
          },
          "execution_count": 20
        }
      ]
    },
    {
      "cell_type": "code",
      "metadata": {
        "id": "H1R9k4VBt64E"
      },
      "source": [
        "# lets create a summary table \n",
        "\n",
        "feature_name = unscaled_inputs.columns.values"
      ],
      "execution_count": 21,
      "outputs": []
    },
    {
      "cell_type": "code",
      "metadata": {
        "id": "8imbKQfAvFDD"
      },
      "source": [
        "summary_table = pd.DataFrame(columns= ['Features Name'], data = feature_name)"
      ],
      "execution_count": 22,
      "outputs": []
    },
    {
      "cell_type": "code",
      "metadata": {
        "id": "4q9a34g1vYX5",
        "outputId": "189659dd-f5d9-44f6-ff66-1146646e77a7",
        "colab": {
          "base_uri": "https://localhost:8080/",
          "height": 421
        }
      },
      "source": [
        "summary_table['Coefficient'] = np.transpose(reg.coef_)\n",
        "summary_table.index = summary_table.index +1 \n",
        "summary_table.loc[0] = ['intercept', reg.intercept_[0]]\n",
        "summary_table['Odds_Ratio'] = np.exp(summary_table.Coefficient)\n",
        "summary_table.sort_values('Odds_Ratio', ascending=False)\n"
      ],
      "execution_count": 23,
      "outputs": [
        {
          "output_type": "execute_result",
          "data": {
            "text/html": [
              "<div>\n",
              "<style scoped>\n",
              "    .dataframe tbody tr th:only-of-type {\n",
              "        vertical-align: middle;\n",
              "    }\n",
              "\n",
              "    .dataframe tbody tr th {\n",
              "        vertical-align: top;\n",
              "    }\n",
              "\n",
              "    .dataframe thead th {\n",
              "        text-align: right;\n",
              "    }\n",
              "</style>\n",
              "<table border=\"1\" class=\"dataframe\">\n",
              "  <thead>\n",
              "    <tr style=\"text-align: right;\">\n",
              "      <th></th>\n",
              "      <th>Features Name</th>\n",
              "      <th>Coefficient</th>\n",
              "      <th>Odds_Ratio</th>\n",
              "    </tr>\n",
              "  </thead>\n",
              "  <tbody>\n",
              "    <tr>\n",
              "      <th>3</th>\n",
              "      <td>Reason_3</td>\n",
              "      <td>3.115553</td>\n",
              "      <td>22.545903</td>\n",
              "    </tr>\n",
              "    <tr>\n",
              "      <th>1</th>\n",
              "      <td>Reason_1</td>\n",
              "      <td>2.800197</td>\n",
              "      <td>16.447892</td>\n",
              "    </tr>\n",
              "    <tr>\n",
              "      <th>2</th>\n",
              "      <td>Reason_2</td>\n",
              "      <td>0.951884</td>\n",
              "      <td>2.590585</td>\n",
              "    </tr>\n",
              "    <tr>\n",
              "      <th>4</th>\n",
              "      <td>Reason_4</td>\n",
              "      <td>0.839001</td>\n",
              "      <td>2.314054</td>\n",
              "    </tr>\n",
              "    <tr>\n",
              "      <th>5</th>\n",
              "      <td>Transportation Expense</td>\n",
              "      <td>0.605284</td>\n",
              "      <td>1.831773</td>\n",
              "    </tr>\n",
              "    <tr>\n",
              "      <th>9</th>\n",
              "      <td>Children</td>\n",
              "      <td>0.348262</td>\n",
              "      <td>1.416604</td>\n",
              "    </tr>\n",
              "    <tr>\n",
              "      <th>7</th>\n",
              "      <td>Body Mass Index</td>\n",
              "      <td>0.279811</td>\n",
              "      <td>1.322880</td>\n",
              "    </tr>\n",
              "    <tr>\n",
              "      <th>11</th>\n",
              "      <td>Month of Year</td>\n",
              "      <td>0.158930</td>\n",
              "      <td>1.172256</td>\n",
              "    </tr>\n",
              "    <tr>\n",
              "      <th>6</th>\n",
              "      <td>Age</td>\n",
              "      <td>-0.169891</td>\n",
              "      <td>0.843757</td>\n",
              "    </tr>\n",
              "    <tr>\n",
              "      <th>8</th>\n",
              "      <td>Education</td>\n",
              "      <td>-0.210533</td>\n",
              "      <td>0.810152</td>\n",
              "    </tr>\n",
              "    <tr>\n",
              "      <th>10</th>\n",
              "      <td>Pets</td>\n",
              "      <td>-0.277396</td>\n",
              "      <td>0.757754</td>\n",
              "    </tr>\n",
              "    <tr>\n",
              "      <th>0</th>\n",
              "      <td>intercept</td>\n",
              "      <td>-1.647455</td>\n",
              "      <td>0.192539</td>\n",
              "    </tr>\n",
              "  </tbody>\n",
              "</table>\n",
              "</div>"
            ],
            "text/plain": [
              "             Features Name  Coefficient  Odds_Ratio\n",
              "3                 Reason_3     3.115553   22.545903\n",
              "1                 Reason_1     2.800197   16.447892\n",
              "2                 Reason_2     0.951884    2.590585\n",
              "4                 Reason_4     0.839001    2.314054\n",
              "5   Transportation Expense     0.605284    1.831773\n",
              "9                 Children     0.348262    1.416604\n",
              "7          Body Mass Index     0.279811    1.322880\n",
              "11           Month of Year     0.158930    1.172256\n",
              "6                      Age    -0.169891    0.843757\n",
              "8                Education    -0.210533    0.810152\n",
              "10                    Pets    -0.277396    0.757754\n",
              "0                intercept    -1.647455    0.192539"
            ]
          },
          "metadata": {
            "tags": []
          },
          "execution_count": 23
        }
      ]
    },
    {
      "cell_type": "code",
      "metadata": {
        "id": "m7HKM8c4v8D9"
      },
      "source": [
        ""
      ],
      "execution_count": 23,
      "outputs": []
    },
    {
      "cell_type": "code",
      "metadata": {
        "id": "398yizVByf9d"
      },
      "source": [
        "# After analysing lets perform backward elimination and remove the feature with no or negligble affect"
      ],
      "execution_count": 25,
      "outputs": []
    },
    {
      "cell_type": "code",
      "metadata": {
        "id": "7KjcR3t43f1I"
      },
      "source": [
        "# lets save the model \n",
        "\n",
        "import pickle"
      ],
      "execution_count": 26,
      "outputs": []
    },
    {
      "cell_type": "code",
      "metadata": {
        "id": "sBOE5TCo4yDr"
      },
      "source": [
        "with open ('model', 'wb') as file:\n",
        "  pickle.dump(reg, file)"
      ],
      "execution_count": 27,
      "outputs": []
    },
    {
      "cell_type": "code",
      "metadata": {
        "id": "QUXPuqjS6OXs"
      },
      "source": [
        "with open ('Scaler' , 'wb') as file: \n",
        "  pickle.dump(scaler, file)"
      ],
      "execution_count": 28,
      "outputs": []
    },
    {
      "cell_type": "code",
      "metadata": {
        "id": "4J02mys06b6A"
      },
      "source": [
        "# Lets test our model in new notebook"
      ],
      "execution_count": null,
      "outputs": []
    }
  ]
}