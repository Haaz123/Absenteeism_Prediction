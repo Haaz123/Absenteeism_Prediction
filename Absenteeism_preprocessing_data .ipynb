{
  "nbformat": 4,
  "nbformat_minor": 0,
  "metadata": {
    "colab": {
      "name": "Absenteeism.ipynb",
      "provenance": [],
      "collapsed_sections": [],
      "authorship_tag": "ABX9TyNWtk4stH5H7ENkYs9W5N1Z",
      "include_colab_link": true
    },
    "kernelspec": {
      "name": "python3",
      "display_name": "Python 3"
    }
  },
  "cells": [
    {
      "cell_type": "markdown",
      "metadata": {
        "id": "view-in-github",
        "colab_type": "text"
      },
      "source": [
        "<a href=\"https://colab.research.google.com/github/Haaz123/Absenteeism_Prediction/blob/master/Absenteeism_preprocessing_data%20.ipynb\" target=\"_parent\"><img src=\"https://colab.research.google.com/assets/colab-badge.svg\" alt=\"Open In Colab\"/></a>"
      ]
    },
    {
      "cell_type": "code",
      "metadata": {
        "id": "4su47SMlt-Ln"
      },
      "source": [
        "import numpy as np\n",
        "import pandas as pd\n",
        "import tensorflow as tf\n",
        "from sklearn import preprocessing"
      ],
      "execution_count": 1,
      "outputs": []
    },
    {
      "cell_type": "code",
      "metadata": {
        "id": "bv8DK4zXCZ7s"
      },
      "source": [
        "raw_unprocessed_data1 = pd.read_csv('1.2 Absenteeism_data.csv.csv')\n",
        "df = raw_unprocessed_data1.copy()"
      ],
      "execution_count": 2,
      "outputs": []
    },
    {
      "cell_type": "code",
      "metadata": {
        "id": "MeJof0ZoPWn7"
      },
      "source": [
        "# remove \"#\" to view whole data \n",
        "#pd.options.display.max_columns= None\n",
        "#pd.options.display.max_rows= None"
      ],
      "execution_count": 3,
      "outputs": []
    },
    {
      "cell_type": "code",
      "metadata": {
        "id": "-zZ_-4CwCxdq"
      },
      "source": [
        "#df.head()"
      ],
      "execution_count": 4,
      "outputs": []
    },
    {
      "cell_type": "code",
      "metadata": {
        "id": "9kjOxlGDC-2z"
      },
      "source": [
        "df = df.drop(['ID'], axis= 1) # drop ID as it has no meaning to our model"
      ],
      "execution_count": 5,
      "outputs": []
    },
    {
      "cell_type": "code",
      "metadata": {
        "id": "lcakSBl3FAUY"
      },
      "source": [
        "#df.head()\n",
        "  \n",
        "    "
      ],
      "execution_count": 6,
      "outputs": []
    },
    {
      "cell_type": "code",
      "metadata": {
        "id": "x_YjZsSAI_78"
      },
      "source": [
        "reasons_columns = pd.get_dummies(df['Reason for Absence'], drop_first=True) # reason is categorical so creating it's columns\n"
      ],
      "execution_count": 7,
      "outputs": []
    },
    {
      "cell_type": "code",
      "metadata": {
        "id": "FE0BPLaGhKZ6",
        "outputId": "b66823a7-df9c-4ac5-84a4-4ad341679746",
        "colab": {
          "base_uri": "https://localhost:8080/",
          "height": 51
        }
      },
      "source": [
        "reasons_columns.columns.values"
      ],
      "execution_count": 8,
      "outputs": [
        {
          "output_type": "execute_result",
          "data": {
            "text/plain": [
              "array([ 1,  2,  3,  4,  5,  6,  7,  8,  9, 10, 11, 12, 13, 14, 15, 16, 17,\n",
              "       18, 19, 21, 22, 23, 24, 25, 26, 27, 28])"
            ]
          },
          "metadata": {
            "tags": []
          },
          "execution_count": 8
        }
      ]
    },
    {
      "cell_type": "code",
      "metadata": {
        "id": "B6gdLLhFj836"
      },
      "source": [
        "df = df.drop(['Reason for Absence'], axis= 1)"
      ],
      "execution_count": 9,
      "outputs": []
    },
    {
      "cell_type": "code",
      "metadata": {
        "id": "44O2QUcJkRKq"
      },
      "source": [
        "# Now lets divide reaasons of absence into 4 groups intead of 28 \n",
        "\n",
        "reason_type1 = reasons_columns.loc[:, 1:14].max(axis=1)\n",
        "reason_type2 = reasons_columns.loc[:, 15:17].max(axis=1)\n",
        "reason_type3 = reasons_columns.loc[:, 18:21].max(axis=1)\n",
        "reason_type4 = reasons_columns.loc[:, 22:].max(axis=1)"
      ],
      "execution_count": 10,
      "outputs": []
    },
    {
      "cell_type": "code",
      "metadata": {
        "id": "NKrdEqrJldQn"
      },
      "source": [
        "df = pd.concat([ reason_type1, reason_type2, reason_type3, reason_type4, df], axis = 1)\n"
      ],
      "execution_count": 11,
      "outputs": []
    },
    {
      "cell_type": "code",
      "metadata": {
        "id": "-6VMwXWxMPct"
      },
      "source": [
        "df['Education']= df['Education'].map({1:0, 2:1, 3:1, 4:1})"
      ],
      "execution_count": 12,
      "outputs": []
    },
    {
      "cell_type": "code",
      "metadata": {
        "id": "zub2nv77m909",
        "outputId": "333b2099-2b55-4d4b-b3db-4c794cdc4458",
        "colab": {
          "base_uri": "https://localhost:8080/",
          "height": 238
        }
      },
      "source": [
        "df.head()"
      ],
      "execution_count": 13,
      "outputs": [
        {
          "output_type": "execute_result",
          "data": {
            "text/html": [
              "<div>\n",
              "<style scoped>\n",
              "    .dataframe tbody tr th:only-of-type {\n",
              "        vertical-align: middle;\n",
              "    }\n",
              "\n",
              "    .dataframe tbody tr th {\n",
              "        vertical-align: top;\n",
              "    }\n",
              "\n",
              "    .dataframe thead th {\n",
              "        text-align: right;\n",
              "    }\n",
              "</style>\n",
              "<table border=\"1\" class=\"dataframe\">\n",
              "  <thead>\n",
              "    <tr style=\"text-align: right;\">\n",
              "      <th></th>\n",
              "      <th>0</th>\n",
              "      <th>1</th>\n",
              "      <th>2</th>\n",
              "      <th>3</th>\n",
              "      <th>Date</th>\n",
              "      <th>Transportation Expense</th>\n",
              "      <th>Distance to Work</th>\n",
              "      <th>Age</th>\n",
              "      <th>Daily Work Load Average</th>\n",
              "      <th>Body Mass Index</th>\n",
              "      <th>Education</th>\n",
              "      <th>Children</th>\n",
              "      <th>Pets</th>\n",
              "      <th>Absenteeism Time in Hours</th>\n",
              "    </tr>\n",
              "  </thead>\n",
              "  <tbody>\n",
              "    <tr>\n",
              "      <th>0</th>\n",
              "      <td>0</td>\n",
              "      <td>0</td>\n",
              "      <td>0</td>\n",
              "      <td>1</td>\n",
              "      <td>07/07/2015</td>\n",
              "      <td>289</td>\n",
              "      <td>36</td>\n",
              "      <td>33</td>\n",
              "      <td>239.554</td>\n",
              "      <td>30</td>\n",
              "      <td>0</td>\n",
              "      <td>2</td>\n",
              "      <td>1</td>\n",
              "      <td>4</td>\n",
              "    </tr>\n",
              "    <tr>\n",
              "      <th>1</th>\n",
              "      <td>0</td>\n",
              "      <td>0</td>\n",
              "      <td>0</td>\n",
              "      <td>0</td>\n",
              "      <td>14/07/2015</td>\n",
              "      <td>118</td>\n",
              "      <td>13</td>\n",
              "      <td>50</td>\n",
              "      <td>239.554</td>\n",
              "      <td>31</td>\n",
              "      <td>0</td>\n",
              "      <td>1</td>\n",
              "      <td>0</td>\n",
              "      <td>0</td>\n",
              "    </tr>\n",
              "    <tr>\n",
              "      <th>2</th>\n",
              "      <td>0</td>\n",
              "      <td>0</td>\n",
              "      <td>0</td>\n",
              "      <td>1</td>\n",
              "      <td>15/07/2015</td>\n",
              "      <td>179</td>\n",
              "      <td>51</td>\n",
              "      <td>38</td>\n",
              "      <td>239.554</td>\n",
              "      <td>31</td>\n",
              "      <td>0</td>\n",
              "      <td>0</td>\n",
              "      <td>0</td>\n",
              "      <td>2</td>\n",
              "    </tr>\n",
              "    <tr>\n",
              "      <th>3</th>\n",
              "      <td>1</td>\n",
              "      <td>0</td>\n",
              "      <td>0</td>\n",
              "      <td>0</td>\n",
              "      <td>16/07/2015</td>\n",
              "      <td>279</td>\n",
              "      <td>5</td>\n",
              "      <td>39</td>\n",
              "      <td>239.554</td>\n",
              "      <td>24</td>\n",
              "      <td>0</td>\n",
              "      <td>2</td>\n",
              "      <td>0</td>\n",
              "      <td>4</td>\n",
              "    </tr>\n",
              "    <tr>\n",
              "      <th>4</th>\n",
              "      <td>0</td>\n",
              "      <td>0</td>\n",
              "      <td>0</td>\n",
              "      <td>1</td>\n",
              "      <td>23/07/2015</td>\n",
              "      <td>289</td>\n",
              "      <td>36</td>\n",
              "      <td>33</td>\n",
              "      <td>239.554</td>\n",
              "      <td>30</td>\n",
              "      <td>0</td>\n",
              "      <td>2</td>\n",
              "      <td>1</td>\n",
              "      <td>2</td>\n",
              "    </tr>\n",
              "  </tbody>\n",
              "</table>\n",
              "</div>"
            ],
            "text/plain": [
              "   0  1  2  3  ... Education  Children  Pets  Absenteeism Time in Hours\n",
              "0  0  0  0  1  ...         0         2     1                          4\n",
              "1  0  0  0  0  ...         0         1     0                          0\n",
              "2  0  0  0  1  ...         0         0     0                          2\n",
              "3  1  0  0  0  ...         0         2     0                          4\n",
              "4  0  0  0  1  ...         0         2     1                          2\n",
              "\n",
              "[5 rows x 14 columns]"
            ]
          },
          "metadata": {
            "tags": []
          },
          "execution_count": 13
        }
      ]
    },
    {
      "cell_type": "code",
      "metadata": {
        "id": "RjghTyN5nhjh",
        "outputId": "f1159b12-c7ce-4a2c-b81e-1250997e3457",
        "colab": {
          "base_uri": "https://localhost:8080/",
          "height": 68
        }
      },
      "source": [
        "df.columns.values"
      ],
      "execution_count": 14,
      "outputs": [
        {
          "output_type": "execute_result",
          "data": {
            "text/plain": [
              "array([0, 1, 2, 3, 'Date', 'Transportation Expense', 'Distance to Work',\n",
              "       'Age', 'Daily Work Load Average', 'Body Mass Index', 'Education',\n",
              "       'Children', 'Pets', 'Absenteeism Time in Hours'], dtype=object)"
            ]
          },
          "metadata": {
            "tags": []
          },
          "execution_count": 14
        }
      ]
    },
    {
      "cell_type": "code",
      "metadata": {
        "id": "-dE9MfKEoJpL"
      },
      "source": [
        "columns_names = ['Reason_1', 'Reason_2', 'Reason_3', 'Reason_4', 'Date', 'Transportation Expense', 'Distance to Work', 'Age',\n",
        "       'Daily Work Load Average', 'Body Mass Index', 'Education',\n",
        "       'Children', 'Pets', 'Absenteeism Time in Hours']"
      ],
      "execution_count": 15,
      "outputs": []
    },
    {
      "cell_type": "code",
      "metadata": {
        "id": "0JrxDRpvoYF7"
      },
      "source": [
        "df.columns = columns_names"
      ],
      "execution_count": 16,
      "outputs": []
    },
    {
      "cell_type": "code",
      "metadata": {
        "id": "AdXUvA47ob_8"
      },
      "source": [
        "#df.head()"
      ],
      "execution_count": 17,
      "outputs": []
    },
    {
      "cell_type": "code",
      "metadata": {
        "id": "DeEa0eChodQJ"
      },
      "source": [
        "df_reason_mod = df.copy() # creating a check point\n"
      ],
      "execution_count": 18,
      "outputs": []
    },
    {
      "cell_type": "code",
      "metadata": {
        "id": "qdE8onWTsnVe"
      },
      "source": [
        "# now lets focus on Date column\n",
        "\n",
        "df_reason_mod['Date'] = pd.to_datetime(df_reason_mod['Date'], format='%d/%m/%Y')"
      ],
      "execution_count": 19,
      "outputs": []
    },
    {
      "cell_type": "code",
      "metadata": {
        "id": "MWk9nXbEyZ4C"
      },
      "source": [
        "#df_reason_mod['Date']"
      ],
      "execution_count": 20,
      "outputs": []
    },
    {
      "cell_type": "code",
      "metadata": {
        "id": "rN6eMYw7yiFU",
        "outputId": "ff2306da-abcc-4b03-b0d6-c5638ac77ee0",
        "colab": {
          "base_uri": "https://localhost:8080/",
          "height": 34
        }
      },
      "source": [
        "df_reason_mod['Date'][180].weekday()"
      ],
      "execution_count": 21,
      "outputs": [
        {
          "output_type": "execute_result",
          "data": {
            "text/plain": [
              "3"
            ]
          },
          "metadata": {
            "tags": []
          },
          "execution_count": 21
        }
      ]
    },
    {
      "cell_type": "code",
      "metadata": {
        "id": "CFzwznZDzLY_"
      },
      "source": [
        "month_list = [] \n",
        "#year_list = []\n",
        "day_list = []\n",
        "\n"
      ],
      "execution_count": 22,
      "outputs": []
    },
    {
      "cell_type": "code",
      "metadata": {
        "id": "xsbgsgUfzXMq"
      },
      "source": [
        "for i in range(700): \n",
        "  month_list.append(df_reason_mod['Date'][i].month)\n",
        "  day_list.append(df_reason_mod['Date'][i].weekday())\n",
        "  #year_list.append(df_reason_mod['Date'][i].year)\n",
        "  \n",
        "  "
      ],
      "execution_count": 23,
      "outputs": []
    },
    {
      "cell_type": "code",
      "metadata": {
        "id": "C7_5e6VYIhEM"
      },
      "source": [
        ""
      ],
      "execution_count": 23,
      "outputs": []
    },
    {
      "cell_type": "code",
      "metadata": {
        "id": "texXGpM4IOrY"
      },
      "source": [
        ""
      ],
      "execution_count": 23,
      "outputs": []
    },
    {
      "cell_type": "code",
      "metadata": {
        "id": "8tzv0QwWIRMr"
      },
      "source": [
        "df_reason_mod['Day of the Week'] = day_list \n",
        "\n"
      ],
      "execution_count": 24,
      "outputs": []
    },
    {
      "cell_type": "code",
      "metadata": {
        "id": "WFfCIadfNvX3"
      },
      "source": [
        "df_reason_mod['Month of Year'] = month_list"
      ],
      "execution_count": 25,
      "outputs": []
    },
    {
      "cell_type": "code",
      "metadata": {
        "id": "y9WjUcvfOPQ5"
      },
      "source": [
        "#df_reason_mod.head()\n"
      ],
      "execution_count": 26,
      "outputs": []
    },
    {
      "cell_type": "code",
      "metadata": {
        "id": "NIOFD1fYOR0a"
      },
      "source": [
        "df_reason_mod = df_reason_mod.drop(['Date'], axis= 1) # now lets drop date section as we do not need it"
      ],
      "execution_count": 27,
      "outputs": []
    },
    {
      "cell_type": "code",
      "metadata": {
        "id": "XpsNOuM2Sqd1"
      },
      "source": [
        "#df_reason_mod.columns.values"
      ],
      "execution_count": 28,
      "outputs": []
    },
    {
      "cell_type": "code",
      "metadata": {
        "id": "SidHzhbZPfuY"
      },
      "source": [
        "df_reason_mod = df_reason_mod[['Reason_1', 'Reason_2', 'Reason_3', 'Reason_4', \n",
        "       'Transportation Expense', 'Distance to Work', 'Age',\n",
        "       'Daily Work Load Average', 'Body Mass Index', 'Education',\n",
        "       'Children', 'Pets', 'Day of the Week',\n",
        "       'Month of Year', 'Absenteeism Time in Hours']]"
      ],
      "execution_count": 29,
      "outputs": []
    },
    {
      "cell_type": "code",
      "metadata": {
        "id": "CrBmyfuzPoCL"
      },
      "source": [
        "#df_reason_mod.head()"
      ],
      "execution_count": 30,
      "outputs": []
    },
    {
      "cell_type": "code",
      "metadata": {
        "id": "ufLhYD9NPqxh"
      },
      "source": [
        "# lets have targets in 2 clusters 0 (if absent for less than 3 hours) and 1 ( if absent for more than 3H)\n",
        "targets = np.where(df_reason_mod['Absenteeism Time in Hours']> df_reason_mod['Absenteeism Time in Hours'].median(), 1,0)"
      ],
      "execution_count": 31,
      "outputs": []
    },
    {
      "cell_type": "code",
      "metadata": {
        "id": "BxzFlrA1tsoz"
      },
      "source": [
        "#targets"
      ],
      "execution_count": 32,
      "outputs": []
    },
    {
      "cell_type": "code",
      "metadata": {
        "id": "ekpymY3ntz2V"
      },
      "source": [
        "# drop the absenteeisn column\n",
        "df_with_targets = df_reason_mod.drop(['Absenteeism Time in Hours'] , axis =1)"
      ],
      "execution_count": 33,
      "outputs": []
    },
    {
      "cell_type": "code",
      "metadata": {
        "id": "u99odAvEuTr4"
      },
      "source": [
        "#df_with_targets.head()"
      ],
      "execution_count": 34,
      "outputs": []
    },
    {
      "cell_type": "code",
      "metadata": {
        "id": "6a8j8pe7uZra"
      },
      "source": [
        "# set a new colunm with target values\n",
        "df_with_targets['Absenteeism Time Targets'] = targets"
      ],
      "execution_count": 35,
      "outputs": []
    },
    {
      "cell_type": "code",
      "metadata": {
        "id": "kkzk8V8suwe-"
      },
      "source": [
        "#df_with_targets.head()"
      ],
      "execution_count": 36,
      "outputs": []
    },
    {
      "cell_type": "code",
      "metadata": {
        "id": "ekrtTMGwuzIU"
      },
      "source": [
        "#save the data for further processing \n",
        "df_with_targets.to_csv('Absenteeism_Preprocessed.csv', index = False)"
      ],
      "execution_count": 37,
      "outputs": []
    },
    {
      "cell_type": "code",
      "metadata": {
        "id": "vU_BhFsuwLxU"
      },
      "source": [
        ""
      ],
      "execution_count": 37,
      "outputs": []
    }
  ]
}